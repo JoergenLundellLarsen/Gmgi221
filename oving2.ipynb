{
 "cells": [
  {
   "cell_type": "markdown",
   "metadata": {
    "deletable": false,
    "editable": false,
    "nbgrader": {
     "cell_type": "markdown",
     "checksum": "c24bd5c74785a8ea6a6c1704f5d7a9b2",
     "grade": false,
     "grade_id": "point_function_instructions",
     "locked": true,
     "schema_version": 3,
     "solution": false
    }
   },
   "source": [
    "## Oppgave 1: Lag grunnleggende geometrier (*5 poeng*)\n",
    "\n",
    "I denne oppgaven skal du lage skreddersydde funksjoner for å lage geometrier. Vi starter med en veldig enkel funksjon, og går videre til å lage funksjoner som kan håndtere ugyldige inngangsverdier.\n",
    "\n",
    "\n",
    "**1a**: Lag en funksjon kalt `create_point_geom()` som har to parametere (x_coord, y_coord). Funksjonen skal lage et shapely \"Point\" geometriobjekt og returnere det.\n"
   ]
  },
  {
   "cell_type": "code",
   "execution_count": 4,
   "metadata": {
    "deletable": false,
    "nbgrader": {
     "cell_type": "code",
     "checksum": "3e3792dac8bbb74c4d2b9997bd998c98",
     "grade": false,
     "grade_id": "point_geom",
     "locked": false,
     "schema_version": 3,
     "solution": true
    }
   },
   "outputs": [],
   "source": [
    "from shapely import Point\n",
    "\n",
    "def create_point_geom(x,y):\n",
    "    p = Point([x,y])\n",
    "    return p\n",
    "\n",
    "\n",
    "x = 10\n",
    "y = 50\n",
    "point1 = create_point_geom(x,y)"
   ]
  },
  {
   "cell_type": "markdown",
   "metadata": {},
   "source": [
    "Test funksjonen din ved å kjøre disse kodecellene:"
   ]
  },
  {
   "cell_type": "code",
   "execution_count": 5,
   "metadata": {
    "deletable": false,
    "editable": false,
    "nbgrader": {
     "cell_type": "code",
     "checksum": "1d97add19facdf007e1d3f165533dfcb",
     "grade": true,
     "grade_id": "problem_1_function_test",
     "locked": true,
     "points": 1,
     "schema_version": 3,
     "solution": false,
     "task": false
    }
   },
   "outputs": [
    {
     "name": "stdout",
     "output_type": "stream",
     "text": [
      "POINT (0 1.1)\n",
      "Point\n"
     ]
    }
   ],
   "source": [
    "# TEST-CELLE\n",
    "## Ikke slett denne cellen, og nye kodeceller du lager til denne deloppgaven skal komme før denne!\n",
    "# Demonstrere bruken av funksjonen\n",
    "point1 = create_point_geom(0.0, 1.1)\n",
    "print(point1)\n",
    "print(point1.geom_type)"
   ]
  },
  {
   "cell_type": "markdown",
   "metadata": {
    "deletable": false,
    "editable": false,
    "nbgrader": {
     "cell_type": "markdown",
     "checksum": "ee13699c2bcddab83d20302684b96a71",
     "grade": false,
     "grade_id": "line_function_instructions",
     "locked": true,
     "schema_version": 3,
     "solution": false
    }
   },
   "source": [
    "**1b**: Lag en funksjon kalt **`create_line_geom()`** som tar en liste over Shapely Point-objekter som parameter kalt **`points`** og returnerer et LineString-objekt av disse inputpunktene. I tillegg bør du passe på at funksjonen brukes som den skal:\n",
    "\n",
    "- Inne i funksjonen bør du først sjekke med `assert` -funksjonaliteten at inputen er en **liste** . Hvis noe annet enn en liste sendes til funksjonen, skal du returnere en feilmelding: `\"Input skal være en liste\"`\n",
    "- Du bør også sjekke med `assert` at inputlisten inneholder **minst** to verdier. Hvis ikke, returner en feilmelding: `\"LineString-objekt krever minst to punkt!\"`\n",
    "- Valgfritt: Til slutt bør du sjekke med `assert` at alle verdiene i inputlisten er ekte Shapely Points. Hvis ikke, returner en feilmelding: `\"Alle listeverdier skal være Shapely Point-objekter!\"`\n"
   ]
  },
  {
   "cell_type": "code",
   "execution_count": 6,
   "metadata": {
    "deletable": false,
    "nbgrader": {
     "cell_type": "code",
     "checksum": "3451debfcbfc4c43f8ac1a3863453d4c",
     "grade": false,
     "grade_id": "line_geom",
     "locked": false,
     "schema_version": 3,
     "solution": true
    }
   },
   "outputs": [],
   "source": [
    "\n",
    "from shapely import Point, LineString\n",
    "\n",
    "def create_line_geom(points):\n",
    "    # sjekk at input er en liste\n",
    "    assert isinstance(points, list)\n",
    "\n",
    "    \n",
    "    assert len(points) >= 2\n",
    "\n",
    "    for p in points:\n",
    "        assert isinstance(p, Point)\n",
    "    return LineString(points)\n",
    "\n",
    "\n",
    "    "
   ]
  },
  {
   "cell_type": "markdown",
   "metadata": {
    "deletable": false,
    "editable": false,
    "nbgrader": {
     "cell_type": "markdown",
     "checksum": "50bb9b13519c154ab84e44d9fec58309",
     "grade": false,
     "grade_id": "cell-8276e8a5c5910754",
     "locked": true,
     "schema_version": 3,
     "solution": false,
     "task": false
    }
   },
   "source": [
    "Demonstrer bruken av funksjonen din; Lag for eksempel et linjeobjekt med to punkter: `Point(45.2, 22.34)` & `Point(100.22, -3.20)` og lagre resultatet i en variabel kalt `line1`:"
   ]
  },
  {
   "cell_type": "code",
   "execution_count": 7,
   "metadata": {},
   "outputs": [],
   "source": [
    "line1 = create_line_geom([Point(45.2,22.34),Point(100.22,-3.20)])"
   ]
  },
  {
   "cell_type": "markdown",
   "metadata": {},
   "source": [
    "Kjør disse kodecellene for å sjekke løsningen din:"
   ]
  },
  {
   "cell_type": "code",
   "execution_count": 8,
   "metadata": {
    "deletable": false,
    "editable": false,
    "nbgrader": {
     "cell_type": "code",
     "checksum": "44bb247a82daf5e03491fc2391814a14",
     "grade": true,
     "grade_id": "problem_1_line_function_test",
     "locked": true,
     "points": 1,
     "schema_version": 3,
     "solution": false,
     "task": false
    }
   },
   "outputs": [
    {
     "name": "stdout",
     "output_type": "stream",
     "text": [
      "LINESTRING (45.2 22.34, 100.22 -3.2)\n",
      "<class 'shapely.geometry.linestring.LineString'>\n"
     ]
    }
   ],
   "source": [
    "# TEST-CELLE\n",
    "## Ikke slett denne cellen, og nye kodeceller du lager til denne deloppgaven skal komme før denne!\n",
    "print(line1)\n",
    "print(type(line1))"
   ]
  },
  {
   "cell_type": "markdown",
   "metadata": {},
   "source": [
    "Sjekk om funksjonen din kontrollerer inputen riktig ved å kjøre denne kodecellen:"
   ]
  },
  {
   "cell_type": "code",
   "execution_count": 12,
   "metadata": {
    "deletable": false,
    "editable": false,
    "nbgrader": {
     "cell_type": "code",
     "checksum": "a612175e0ea722ee9513a7f1265df8c8",
     "grade": true,
     "grade_id": "problem_1_line_assertion_test",
     "locked": true,
     "points": 1,
     "schema_version": 3,
     "solution": false,
     "task": false
    }
   },
   "outputs": [
    {
     "name": "stdout",
     "output_type": "stream",
     "text": [
      "Fant en assertion-error. Listetesten fungerer.\n"
     ]
    }
   ],
   "source": [
    "# TEST-CELLE\n",
    "## Ikke slett denne cellen, og nye kodeceller du lager til denne deloppgaven skal komme før denne!\n",
    "try:\n",
    "    # Pass på noe annet enn en liste\n",
    "    create_line_geom(\"Gi meg en linje\")\n",
    "except AssertionError:\n",
    "    print(\"Fant en assertion-error. Listetesten fungerer.\")\n",
    "except Exception as e:\n",
    "    raise e"
   ]
  },
  {
   "cell_type": "markdown",
   "metadata": {
    "deletable": false,
    "editable": false,
    "nbgrader": {
     "cell_type": "markdown",
     "checksum": "ab0fc0150627efc71d165042df5c961b",
     "grade": false,
     "grade_id": "poly_function_instructions",
     "locked": true,
     "schema_version": 3,
     "solution": false
    }
   },
   "source": [
    "**1c**: Lag en funksjon kalt **`create_poly_geom()`** som har én parameter kalt **`coords`**. `coords`-parameteren skal inneholde **en liste med koordinattupler**. Funksjonen skal opprette og returnere et polygonobjekt basert på disse koordinatene.\n",
    "\n",
    "- Inne i funksjonen bør du først sjekke med `assert` -functionality at inputen er en **liste**. Hvis noe annet enn en liste sendes for funksjonen, skal du returnere en feilmelding: `\"Input skal være en liste\"`\n",
    "- Du bør også sjekke med `assert` at inputlisten inneholder **minst** tre verdier. Hvis ikke, returner en feilmelding: `\"Polygon-objekt krever minst tre punkter!\"`\n",
    "- Sjekk datatypen til objektene i inputlisten. Alle verdier i inputlisten skal være tupler. Hvis ikke, returner en feilmelding: `\"Alle listeverdier skal være koordinattupler!\"` ved bruk av `assert`.\n",
    "- **Valgfritt:** Tillat også en input som inneholder en liste med Shapely Point-objekter. Hvis `coords` inneholder en liste med Shapely Point-objekter, returner et polygon basert på disse punktene. Hvis inputen verken er en liste med tupler, eller en liste med punkter, returner en passende feilmelding ved å bruke `assert`.\n"
   ]
  },
  {
   "cell_type": "code",
   "execution_count": null,
   "metadata": {
    "deletable": false,
    "nbgrader": {
     "cell_type": "code",
     "checksum": "68625a4a718dc478f27c015528712492",
     "grade": false,
     "grade_id": "poly_geom",
     "locked": false,
     "schema_version": 3,
     "solution": true
    }
   },
   "outputs": [],
   "source": [
    "from shapely.geometry import Point, Polygon, LineString\n",
    "\n",
    "def create_poly_geom(coords):\n",
    "    #sjekk at input er en liste\n",
    "    assert isinstance(coords, list), \"inputten må være en liste\"\n",
    "\n",
    "    # sjekk at listen har minst 3 elementer\n",
    "    assert len(coords) >= 3, \"listen må ha mer enn 3 elem\"\n",
    "\n",
    "    # sjekk at enten alle er tupler eller alle er Points\n",
    "    if all(isinstance(c, tuple) for c in coords):\n",
    "        return Polygon(coords)\n",
    "    elif all(isinstance(c, Point) for c in coords):\n",
    "        return Polygon([(p.x, p.y) for p in coords])\n",
    "    else:\n",
    "        assert False, \"alle listeverdier må være shsply objekter\"\n"
   ]
  },
  {
   "cell_type": "markdown",
   "metadata": {},
   "source": [
    "Demonstrer bruken av funksjonen. Lag for eksempel et polygon med tre punkter: `(45.2, 22.34)`, `(100.22, -3.20)` og `(70.0, 10.20)`."
   ]
  },
  {
   "cell_type": "code",
   "execution_count": 18,
   "metadata": {},
   "outputs": [],
   "source": [
    "poly1 = [(45.2, 22.34), (100.22, -3.20), (70.0, 10.20)]"
   ]
  },
  {
   "cell_type": "code",
   "execution_count": 19,
   "metadata": {
    "deletable": false,
    "editable": false,
    "nbgrader": {
     "cell_type": "code",
     "checksum": "b1c3a840bb2bc72aa11091c16f97437a",
     "grade": true,
     "grade_id": "problem_1_poly_function_tests",
     "locked": true,
     "points": 1,
     "schema_version": 3,
     "solution": false,
     "task": false
    }
   },
   "outputs": [
    {
     "name": "stdout",
     "output_type": "stream",
     "text": [
      "[(45.2, 22.34), (100.22, -3.2), (70.0, 10.2)]\n",
      "<class 'list'>\n"
     ]
    }
   ],
   "source": [
    "# TEST-CELLE\n",
    "## Ikke slett denne cellen, og nye kodeceller du lager til denne deloppgaven skal komme før denne!\n",
    "print(poly1)\n",
    "print(type(poly1))"
   ]
  },
  {
   "cell_type": "markdown",
   "metadata": {},
   "source": [
    "Sjekk om funksjonen din kontrollerer lengden på inputen riktig ved å kjøre denne kodecellen:"
   ]
  },
  {
   "cell_type": "code",
   "execution_count": 20,
   "metadata": {
    "deletable": false,
    "editable": false,
    "nbgrader": {
     "cell_type": "code",
     "checksum": "fa007bfe72c9dc529650a90fff597a77",
     "grade": true,
     "grade_id": "problem_1_poly_assertion_tests",
     "locked": true,
     "points": 1,
     "schema_version": 3,
     "solution": false,
     "task": false
    }
   },
   "outputs": [
    {
     "name": "stdout",
     "output_type": "stream",
     "text": [
      "Listetesten fungerer\n"
     ]
    }
   ],
   "source": [
    "# TEST-CELLE\n",
    "## Ikke slett denne cellen, og nye kodeceller du lager til denne deloppgaven skal komme før denne!\n",
    "try:\n",
    "    # Pass på noe annet enn en liste\n",
    "    create_poly_geom(\"Lag et polygon\")\n",
    "except AssertionError:\n",
    "    print(\"Listetesten fungerer\")\n",
    "except Exception as e:\n",
    "    raise e"
   ]
  },
  {
   "cell_type": "markdown",
   "metadata": {
    "deletable": false,
    "editable": false,
    "nbgrader": {
     "cell_type": "markdown",
     "checksum": "7ad3292a7a22d2950a106308c2553d3c",
     "grade": false,
     "grade_id": "done_1",
     "locked": true,
     "schema_version": 3,
     "solution": false
    }
   },
   "source": [
    "Det var det. Nå er du klar til å fortsette med oppgave 2."
   ]
  },
  {
   "cell_type": "markdown",
   "metadata": {
    "deletable": false,
    "editable": false,
    "nbgrader": {
     "cell_type": "markdown",
     "checksum": "d643625abf99c0c73e045e82a0a3fbe5",
     "grade": false,
     "grade_id": "get_centroid_instructions",
     "locked": true,
     "schema_version": 3,
     "solution": false
    }
   },
   "source": [
    "## Oppgave 2: Attributter til geometrier (*5 poeng*)\n",
    "\n",
    "**2a**: Lag en funksjon kalt `get_centroid()` som har én parameter kalt `geom`. Funksjonen bør ta en hvilken som helst form for Shapely-objekt som input, og returnere et midtpunkt av den geometrien. I tillegg bør du passe på at funksjonen brukes som den skal:\n",
    "\n",
    "- Inne i funksjonen bør du først sjekke med `assert` -funksjonalitet at inputen er en Shapely Point, LineString eller Polygon geometri. Hvis noe annet enn et Shapely objekt sendes for funksjonen, bør du returnere en feilmelding: `\"Input skal være en Shapely geometri!\"`\n"
   ]
  },
  {
   "cell_type": "code",
   "execution_count": null,
   "metadata": {
    "deletable": false,
    "nbgrader": {
     "cell_type": "code",
     "checksum": "c8b9d2d9aa66160c0d8ad97102c5d88a",
     "grade": false,
     "grade_id": "centroid",
     "locked": false,
     "schema_version": 3,
     "solution": true
    }
   },
   "outputs": [],
   "source": [
    "\n",
    "\n",
    "def get_centroid(geom):\n",
    "    # sjekk at input er en shapely geometri (Point, LineString eller Polygon)\n",
    "    assert isinstance(geom, (Point, LineString, Polygon)), \"Input skal være en Shapely geometri!\"\n",
    "    \n",
    "    # returner centroid\n",
    "    return geom.centroid\n"
   ]
  },
  {
   "cell_type": "markdown",
   "metadata": {},
   "source": [
    "Test og demonstrer bruken av funksjonen. Du kan for eksempel lage shapely-objekter ved å bruke funksjonene du opprettet i oppgave 1 og skrive ut informasjon om midtpunktene deres:\n"
   ]
  },
  {
   "cell_type": "code",
   "execution_count": null,
   "metadata": {},
   "outputs": [],
   "source": []
  },
  {
   "cell_type": "code",
   "execution_count": null,
   "metadata": {
    "deletable": false,
    "editable": false,
    "nbgrader": {
     "cell_type": "code",
     "checksum": "cbd3d74887e93206c9bd86f506e5a827",
     "grade": true,
     "grade_id": "problem_2_centroid_test",
     "locked": true,
     "points": 1,
     "schema_version": 3,
     "solution": false
    }
   },
   "outputs": [],
   "source": [
    "# TEST-CELLE\n",
    "## Ikke slett denne cellen, og nye kodeceller du lager til denne deloppgaven skal komme før denne!\n",
    "centroid = get_centroid(poly1)\n",
    "print(centroid)"
   ]
  },
  {
   "cell_type": "markdown",
   "metadata": {},
   "source": [
    "Sjekk at assert-feilen fungerer som den skal:"
   ]
  },
  {
   "cell_type": "code",
   "execution_count": null,
   "metadata": {
    "deletable": false,
    "editable": false,
    "nbgrader": {
     "cell_type": "code",
     "checksum": "7fd69ec7dc0942a72fb4e7f74bcd0b68",
     "grade": true,
     "grade_id": "problem_2_centroid_assertion_test",
     "locked": true,
     "points": 0.5,
     "schema_version": 3,
     "solution": false,
     "task": false
    }
   },
   "outputs": [],
   "source": [
    "# TEST-CELLE\n",
    "## Ikke slett denne cellen, og nye kodeceller du lager til denne deloppgaven skal komme før denne!\n",
    "try:\n",
    "    # Bestå noe annet enn en Shapely geometri\n",
    "    get_centroid(\"Gi meg en centroide.!\")\n",
    "except AssertionError:\n",
    "    print(\"Fant en assertion-error. Geometri-testen virker.\")\n",
    "except Exception as e:\n",
    "    raise e"
   ]
  },
  {
   "cell_type": "markdown",
   "metadata": {
    "deletable": false,
    "editable": false,
    "nbgrader": {
     "cell_type": "markdown",
     "checksum": "95d5b5f37520582a35e9d21782d81f67",
     "grade": false,
     "grade_id": "cell-f852a6d46065d4e2",
     "locked": true,
     "schema_version": 3,
     "solution": false
    }
   },
   "source": [
    "**2b**: Lag en funksjon kalt `get_area()` med én parameter kalt `polygon`. Funksjonen skal ta et Shapely Polygon-objekt som input og returnerer arealet til den geometrien.\n",
    "\n",
    "- Inne i funksjonen bør du først sjekke med `assert` -funksjonalitet at inputen er en Shapely Polygon-geometri. Hvis noe annet enn en liste sendes for funksjonen, bør du returnere en feilmelding: `\"Input skal være et Shapely Polygon-objekt!\"`"
   ]
  },
  {
   "cell_type": "code",
   "execution_count": null,
   "metadata": {
    "deletable": false,
    "nbgrader": {
     "cell_type": "code",
     "checksum": "cc97ae79bb0c4cd79efe27f80072925e",
     "grade": false,
     "grade_id": "area",
     "locked": false,
     "schema_version": 3,
     "solution": true
    }
   },
   "outputs": [],
   "source": [
    "# SKRIV DIN KODE HER OG FJERN LINJEN \"raise NotImplementedError()\"\n",
    "raise NotImplementedError()"
   ]
  },
  {
   "cell_type": "markdown",
   "metadata": {},
   "source": [
    "Test og demonstrer bruken av funksjonen:"
   ]
  },
  {
   "cell_type": "code",
   "execution_count": null,
   "metadata": {},
   "outputs": [],
   "source": []
  },
  {
   "cell_type": "code",
   "execution_count": null,
   "metadata": {
    "deletable": false,
    "editable": false,
    "nbgrader": {
     "cell_type": "code",
     "checksum": "7f428205f2a2ee1feb3332def2d878ef",
     "grade": true,
     "grade_id": "problem_2_area_test",
     "locked": true,
     "points": 0.5,
     "schema_version": 3,
     "solution": false
    }
   },
   "outputs": [],
   "source": [
    "# TEST-CELLE\n",
    "## Ikke slett denne cellen, og nye kodeceller du lager til denne deloppgaven skal komme før denne!\n",
    "area = get_area(poly1)\n",
    "print(round(area, 2))"
   ]
  },
  {
   "cell_type": "markdown",
   "metadata": {},
   "source": [
    "Sjekk at assert-feilen fungerer:"
   ]
  },
  {
   "cell_type": "code",
   "execution_count": null,
   "metadata": {
    "deletable": false,
    "editable": false,
    "nbgrader": {
     "cell_type": "code",
     "checksum": "7138e9ec1fa695b940317c367da4716d",
     "grade": true,
     "grade_id": "problem_2_area_assertion_test",
     "locked": true,
     "points": 0.5,
     "schema_version": 3,
     "solution": false,
     "task": false
    }
   },
   "outputs": [],
   "source": [
    "# TEST-CELLE\n",
    "## Ikke slett denne cellen, og nye kodeceller du lager til denne deloppgaven skal komme før denne!\n",
    "try:\n",
    "    # Bestå noe annet enn en Shapely geometri\n",
    "    get_area(\"Gi meg et areal!\")\n",
    "except AssertionError:\n",
    "    print(\"Geometri-testen virker\")\n",
    "except Exception as e:\n",
    "    raise e"
   ]
  },
  {
   "cell_type": "markdown",
   "metadata": {
    "deletable": false,
    "editable": false,
    "nbgrader": {
     "cell_type": "markdown",
     "checksum": "5df7c67883853b874a5c24decb88459a",
     "grade": false,
     "grade_id": "cell-df3c925f923bf1dd",
     "locked": true,
     "schema_version": 3,
     "solution": false
    }
   },
   "source": [
    "**2c**: Opprett en funksjon kalt `get_length()` med parameter kalt `geom`. Funksjonen skal akseptere enten et Shapely LineString eller Polygon-objekt som input. Funksjonen skal sjekke typen inndata og returnerer lengden på linjen hvis input er LineString og lengden på den ytre ringen hvis input er Polygon. Hvis noe annet sendes til funksjonen, bør du returnere en `Error` `\"'geom' skal være enten LineString eller Polygon!\"`. (Bruk assert-funksjonalitet).\n"
   ]
  },
  {
   "cell_type": "code",
   "execution_count": null,
   "metadata": {
    "deletable": false,
    "nbgrader": {
     "cell_type": "code",
     "checksum": "e9d608835e0063620ea4115503a028e2",
     "grade": false,
     "grade_id": "length",
     "locked": false,
     "schema_version": 3,
     "solution": true
    }
   },
   "outputs": [],
   "source": [
    "# SKRIV DIN KODE HER OG FJERN LINJEN \"raise NotImplementedError()\"\n",
    "raise NotImplementedError()"
   ]
  },
  {
   "cell_type": "markdown",
   "metadata": {},
   "source": [
    "Test og demonstrer bruken av funksjonen:"
   ]
  },
  {
   "cell_type": "code",
   "execution_count": null,
   "metadata": {},
   "outputs": [],
   "source": []
  },
  {
   "cell_type": "code",
   "execution_count": null,
   "metadata": {
    "deletable": false,
    "editable": false,
    "nbgrader": {
     "cell_type": "code",
     "checksum": "aced71500432fb94f18f64f49bbeb3e2",
     "grade": true,
     "grade_id": "problem_2_lenght_test",
     "locked": true,
     "points": 0.5,
     "schema_version": 3,
     "solution": false
    }
   },
   "outputs": [],
   "source": [
    "# TEST-CELLE\n",
    "## Ikke slett denne cellen, og nye kodeceller du lager til denne deloppgaven skal komme før denne!\n",
    "line_length = get_length(line1)\n",
    "print(\"Linjelengde:\", round(line_length,2))"
   ]
  },
  {
   "cell_type": "code",
   "execution_count": null,
   "metadata": {
    "deletable": false,
    "editable": false,
    "nbgrader": {
     "cell_type": "code",
     "checksum": "89f19945832f7b96d42003d55415147f",
     "grade": true,
     "grade_id": "problem_2_poly_length_test",
     "locked": true,
     "points": 0.5,
     "schema_version": 3,
     "solution": false,
     "task": false
    }
   },
   "outputs": [],
   "source": [
    "# TEST-CELLE\n",
    "## Ikke slett denne cellen, og nye kodeceller du lager til denne deloppgaven skal komme før denne!\n",
    "poly_exterior_length = get_length(poly1)\n",
    "print(\"Polygon omkrets:\", round(poly_exterior_length,2))"
   ]
  },
  {
   "cell_type": "code",
   "execution_count": null,
   "metadata": {
    "deletable": false,
    "editable": false,
    "nbgrader": {
     "cell_type": "code",
     "checksum": "962c29443ad0c29c4e5dafddfebc3e2b",
     "grade": true,
     "grade_id": "problem_2_length_assertion_test",
     "locked": true,
     "points": 0.5,
     "schema_version": 3,
     "solution": false,
     "task": false
    }
   },
   "outputs": [],
   "source": [
    "# TEST-CELLE\n",
    "## Ikke slett denne cellen, og nye kodeceller du lager til denne deloppgaven skal komme før denne!\n",
    "try:\n",
    "    # Send noe annet enn en Shapely LineString eller Polygon\n",
    "    get_length(Point(1,2))\n",
    "except AssertionError:\n",
    "    print(\"Geometri-testen virker\")\n",
    "except Exception as e:\n",
    "    raise e"
   ]
  },
  {
   "cell_type": "markdown",
   "metadata": {},
   "source": [
    "## Docstrings\n",
    "\n",
    "Har du lagt til en docstring til alle funksjonene du definerte? Hvis ikke, legg dem til nå :) En kort en-linjes docstring er nok i denne øvelsen.\n",
    "\n",
    "Sjekk: inneholder alle funksjonene dine en docstring? 1 poeng tildeles automatisk dersom testen under består.\n",
    "\n",
    "I tillegg kan du kjøre kodecellen nedenfor for å sjekke alle docstringene!"
   ]
  },
  {
   "cell_type": "code",
   "execution_count": null,
   "metadata": {
    "deletable": false,
    "editable": false,
    "nbgrader": {
     "cell_type": "code",
     "checksum": "1137633a6fe77588901424cafee85986",
     "grade": true,
     "grade_id": "problem_2_docstring_test",
     "locked": true,
     "points": 1,
     "schema_version": 3,
     "solution": false,
     "task": false
    }
   },
   "outputs": [],
   "source": [
    "# TEST-CELLE\n",
    "## Ikke slett denne cellen, og nye kodeceller du lager til denne deloppgaven skal komme før denne!\n",
    "\n",
    "# List opp alle funksjonene vi har laget\n",
    "functions = [create_point_geom, create_line_geom, create_poly_geom, \n",
    "             get_centroid, get_area, get_length]\n",
    "\n",
    "print(\"Mine funksjoner:\\n\")\n",
    "\n",
    "for function in functions:\n",
    "    # Skriv ut funksjonsnavn og docstring:\n",
    "    print(\"-\", function.__name__ +\":\", function.__doc__)"
   ]
  },
  {
   "cell_type": "markdown",
   "metadata": {
    "deletable": false,
    "editable": false,
    "nbgrader": {
     "cell_type": "markdown",
     "checksum": "429eba1abbf59a2d1676f152f854d596",
     "grade": false,
     "grade_id": "done_2",
     "locked": true,
     "schema_version": 3,
     "solution": false
    }
   },
   "source": [
    "## Ferdig!"
   ]
  }
 ],
 "metadata": {
  "kernelspec": {
   "display_name": "Python 3",
   "language": "python",
   "name": "python3"
  },
  "language_info": {
   "codemirror_mode": {
    "name": "ipython",
    "version": 3
   },
   "file_extension": ".py",
   "mimetype": "text/x-python",
   "name": "python",
   "nbconvert_exporter": "python",
   "pygments_lexer": "ipython3",
   "version": "3.13.3"
  }
 },
 "nbformat": 4,
 "nbformat_minor": 4
}
