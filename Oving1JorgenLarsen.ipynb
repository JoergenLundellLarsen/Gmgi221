{
 "cells": [
  {
   "cell_type": "markdown",
   "id": "fe2582b3-4a85-4cc3-9098-60269f090e96",
   "metadata": {
    "deletable": false,
    "editable": false,
    "nbgrader": {
     "cell_type": "markdown",
     "checksum": "6f7b2193e4194bde17db62e273d01ddd",
     "grade": false,
     "grade_id": "cell-e95a51dada586bef",
     "locked": true,
     "schema_version": 3,
     "solution": false,
     "task": false
    }
   },
   "source": [
    "# Øving 1"
   ]
  },
  {
   "cell_type": "markdown",
   "id": "7e4ba39f-3b79-41e7-8e9f-37d30239c85c",
   "metadata": {
    "deletable": false,
    "editable": false,
    "nbgrader": {
     "cell_type": "markdown",
     "checksum": "a985aa27e79e6f5dbb474e2f20f70984",
     "grade": false,
     "grade_id": "cell-cc4ece26f44edc53",
     "locked": true,
     "schema_version": 3,
     "solution": false,
     "task": false
    }
   },
   "source": [
    "Denne første øvingen er først og fremst for å sikre at du har fått satt opp et Python-miljø, som vil virke for resten av semesteret.\n",
    "\n",
    "Til å begynne med importerer vi alle de viktigste bibliotekene vi skal bruke dette semesteret, hvis dette feiler, gå over installasjonsveiledningen på nettsiden, eller ta kontakt.\n",
    "\n",
    "Start med å kjøre cellen under:"
   ]
  },
  {
   "cell_type": "code",
   "execution_count": null,
   "id": "97dd5e12-96e3-4435-9485-2fdc218ec341",
   "metadata": {},
   "outputs": [],
   "source": [
    "import bokeh\n",
    "import contextily\n",
    "import folium\n",
    "import geojson\n",
    "import geopandas\n",
    "import geopy\n",
    "import mapclassify\n",
    "import matplotlib\n",
    "import osmnx\n",
    "import pyproj\n",
    "import pyrosm\n",
    "import requests\n",
    "import sklearn  \n",
    "import shapely"
   ]
  },
  {
   "cell_type": "markdown",
   "id": "a08c4398-c213-43bc-813d-2a6636c4d350",
   "metadata": {
    "deletable": false,
    "editable": false,
    "nbgrader": {
     "cell_type": "markdown",
     "checksum": "df59c282656fc0df3d3f4343cca17ff0",
     "grade": false,
     "grade_id": "cell-567a3c6cd9c1c3bf",
     "locked": true,
     "schema_version": 3,
     "solution": false,
     "task": false
    }
   },
   "source": [
    "Flott! Da skal du ha de viktigste bibliotekene installert."
   ]
  },
  {
   "cell_type": "markdown",
   "id": "db840382-043d-4370-a766-2d29fa9d8123",
   "metadata": {
    "deletable": false,
    "editable": false,
    "nbgrader": {
     "cell_type": "markdown",
     "checksum": "1c4c9d14da29f3930ad70beba38658d3",
     "grade": false,
     "grade_id": "cell-22ff6af5b78b4b57",
     "locked": true,
     "schema_version": 3,
     "solution": false,
     "task": false
    }
   },
   "source": [
    "For å bli litt kjent med hvordan øvingene blir utover høsten, skal du nå løse noen enkle Python-oppgaver:"
   ]
  },
  {
   "cell_type": "markdown",
   "id": "79a2e6b8-ce92-45d3-b8b2-09970045c222",
   "metadata": {
    "deletable": false,
    "editable": false,
    "nbgrader": {
     "cell_type": "markdown",
     "checksum": "75d8a8f009176a1a5cfe74397015680c",
     "grade": false,
     "grade_id": "cell-ca0b73ddff66d124",
     "locked": true,
     "schema_version": 3,
     "solution": false,
     "task": false
    }
   },
   "source": [
    "## Oppgave 1: Variabler og enkle operasjoner"
   ]
  },
  {
   "cell_type": "markdown",
   "id": "fcadf743-5f08-41de-ace2-e1fabf0bfa7c",
   "metadata": {
    "deletable": false,
    "editable": false,
    "nbgrader": {
     "cell_type": "markdown",
     "checksum": "2ee8bdf4da8314bca5df16a9103bf0bb",
     "grade": false,
     "grade_id": "cell-d0d661f0b038deeb",
     "locked": true,
     "schema_version": 3,
     "solution": false,
     "task": false
    }
   },
   "source": [
    "Fyll ut de predefinerte variablene i neste celle med disse informasjonene:\n",
    "\n",
    "* Innbyggertall i Oslo: 717.710\n",
    "* Arealet til Oslo: 454km2"
   ]
  },
  {
   "cell_type": "code",
   "execution_count": 32,
   "id": "1f914d95-e853-4349-a7e8-cdfb09057c8e",
   "metadata": {
    "deletable": false,
    "nbgrader": {
     "cell_type": "code",
     "checksum": "c3426b36264c9261a920bbad48cbe52a",
     "grade": false,
     "grade_id": "cell-24f4b735e23bf8de",
     "locked": false,
     "schema_version": 3,
     "solution": true,
     "task": false
    }
   },
   "outputs": [],
   "source": [
    "innbyggertall = 717710\n",
    "areal = 454 #km2\n"
   ]
  },
  {
   "cell_type": "markdown",
   "id": "6c61b99e-05af-4d1b-b124-8dcbfdd3b4fe",
   "metadata": {
    "deletable": false,
    "editable": false,
    "nbgrader": {
     "cell_type": "markdown",
     "checksum": "b2057d29b4b73121cef04b1eca2f79ef",
     "grade": false,
     "grade_id": "cell-a155fd5695b4be50",
     "locked": true,
     "schema_version": 3,
     "solution": false,
     "task": false
    }
   },
   "source": [
    "Regn ut innbyggertallet per kvadratkilometer for Oslo og lagre det i en variabel med navn `tetthet`.\n",
    "Print ut variabelen."
   ]
  },
  {
   "cell_type": "code",
   "execution_count": 33,
   "id": "fa616fa3-c079-4f71-a6d4-68ad1c5a6805",
   "metadata": {
    "deletable": false,
    "nbgrader": {
     "cell_type": "code",
     "checksum": "a2f8014cfa65ede7307cd428fa9811ea",
     "grade": false,
     "grade_id": "cell-390762a29c46fd81",
     "locked": false,
     "schema_version": 3,
     "solution": true,
     "task": false
    }
   },
   "outputs": [
    {
     "name": "stdout",
     "output_type": "stream",
     "text": [
      "1580.859 personer per km2 i oslo\n"
     ]
    }
   ],
   "source": [
    "tetthet = innbyggertall/areal\n",
    "print(f'{tetthet:.3f} personer per km2 i oslo')"
   ]
  },
  {
   "cell_type": "code",
   "execution_count": 34,
   "id": "6e751e71-3082-4f2f-8606-717ec73b7fed",
   "metadata": {
    "deletable": false,
    "editable": false,
    "nbgrader": {
     "cell_type": "code",
     "checksum": "0a6ba10d1914ad93d8546da068997487",
     "grade": true,
     "grade_id": "cell-9aa3ec33c98d6569",
     "locked": true,
     "points": 5,
     "schema_version": 3,
     "solution": false,
     "task": false
    }
   },
   "outputs": [],
   "source": [
    "# TEST-CELLE\n",
    "## Ikke slett denne cellen, og nye kodeceller du lager til denne deloppgaven skal komme før denne!"
   ]
  },
  {
   "cell_type": "markdown",
   "id": "fe1e8a7d-8c79-402e-af66-8547ea029953",
   "metadata": {
    "deletable": false,
    "editable": false,
    "nbgrader": {
     "cell_type": "markdown",
     "checksum": "d98219ee63ad658be3a1af709f8a93b0",
     "grade": false,
     "grade_id": "cell-626158fc1d29a7ef",
     "locked": true,
     "schema_version": 3,
     "solution": false,
     "task": false
    }
   },
   "source": [
    "Supert! Du er nå ferdig med Python-delen av øvingen."
   ]
  },
  {
   "cell_type": "markdown",
   "id": "d9bf309b-87d3-4ab1-a84b-4e8f85890b74",
   "metadata": {
    "deletable": false,
    "editable": false,
    "nbgrader": {
     "cell_type": "markdown",
     "checksum": "422edb4ef1f2d31ad247bc80484ce973",
     "grade": false,
     "grade_id": "cell-608ed1d3d690e4af",
     "locked": true,
     "schema_version": 3,
     "solution": false,
     "task": false
    }
   },
   "source": [
    "## Oppgave 2: Bruke markdown-felt"
   ]
  },
  {
   "cell_type": "markdown",
   "id": "b153ece7-1650-4c54-8e78-e78c05a150a6",
   "metadata": {
    "deletable": false,
    "editable": false,
    "nbgrader": {
     "cell_type": "markdown",
     "checksum": "22c90b02c11380cfc601560552f448fd",
     "grade": false,
     "grade_id": "cell-119df795ec298158",
     "locked": true,
     "schema_version": 3,
     "solution": false,
     "task": false
    }
   },
   "source": [
    "I noen av øvingsoppgavene blir du bedt om å ikke bare skrive Python-kode, men også skrive mer utfyllende tekst. I en Notebook kan man gjøre det i celler som er av typen Markdown. Du kan lese mer om [Markdown-formattering her](https://www.markdownguide.org/basic-syntax/), men det er i utgangspunktet veldig enkelt, og du kan bare begynne å skrive i Markdown celler. Cellen under er en Markdown-celle, skriv et par setninger om hva slags erfaring du har med Python fra før dette emnet, og eventuelt om det er noe spesielt du kunne tenke deg å lære gjennom emnet:"
   ]
  },
  {
   "cell_type": "markdown",
   "id": "22c3821e-cb1c-4741-89b6-31868f4f33dc",
   "metadata": {
    "deletable": false,
    "nbgrader": {
     "cell_type": "markdown",
     "checksum": "3540b662af13cdd3c00e7f0792e7b304",
     "grade": true,
     "grade_id": "cell-22b98ff63070a9eb",
     "locked": false,
     "points": 5,
     "schema_version": 3,
     "solution": true,
     "task": false
    }
   },
   "source": [
    "SKRIV SVARENE DINE I DENNE CELLEN\n",
    "\n",
    "# Erfaring fra før:\n",
    "- Mye programeringserfaring, både python, c og c++. Hatt inf203"
   ]
  },
  {
   "cell_type": "markdown",
   "id": "dea31b43-2236-40df-b863-2f3954ee4330",
   "metadata": {
    "deletable": false,
    "editable": false,
    "nbgrader": {
     "cell_type": "markdown",
     "checksum": "4ea9c05b62b318f1ea8982db6d9180e9",
     "grade": false,
     "grade_id": "cell-81c694343dea688f",
     "locked": true,
     "schema_version": 3,
     "solution": false,
     "task": false
    }
   },
   "source": [
    "## Lever inn øvingen"
   ]
  },
  {
   "cell_type": "markdown",
   "id": "59e0ae3d-036d-424f-9172-deb7b8a7a9e0",
   "metadata": {
    "deletable": false,
    "editable": false,
    "nbgrader": {
     "cell_type": "markdown",
     "checksum": "04d3ba41ea9bb87ee27bb6beeece9ee8",
     "grade": false,
     "grade_id": "cell-99d05acdce58c162",
     "locked": true,
     "schema_version": 3,
     "solution": false,
     "task": false
    }
   },
   "source": [
    "For å fullføre denne øvingen, skal du lagre notebooken, endre navn på den til \"oving1+ditt_navn\" og lever den på Canvas."
   ]
  }
 ],
 "metadata": {
  "kernelspec": {
   "display_name": "Python 3",
   "language": "python",
   "name": "python3"
  },
  "language_info": {
   "codemirror_mode": {
    "name": "ipython",
    "version": 3
   },
   "file_extension": ".py",
   "mimetype": "text/x-python",
   "name": "python",
   "nbconvert_exporter": "python",
   "pygments_lexer": "ipython3",
   "version": "3.13.3"
  }
 },
 "nbformat": 4,
 "nbformat_minor": 5
}
